{
 "cells": [
  {
   "cell_type": "markdown",
   "metadata": {},
   "source": [
    "## 1. Robot and Map classes\n"
   ]
  },
  {
   "cell_type": "code",
   "execution_count": 1,
   "metadata": {},
   "outputs": [],
   "source": [
    "import numpy as np\n",
    "import matplotlib.pyplot as plt\n",
    "import time "
   ]
  },
  {
   "cell_type": "code",
   "execution_count": 2,
   "metadata": {},
   "outputs": [],
   "source": [
    "# import custom modules\n",
    "\n",
    "import sys \n",
    "sys.path.append('.\\src')\n",
    "\n",
    "from robot import *\n",
    "\n"
   ]
  },
  {
   "cell_type": "code",
   "execution_count": 3,
   "metadata": {},
   "outputs": [],
   "source": [
    "# create instances\n",
    "robot = robot()"
   ]
  },
  {
   "cell_type": "code",
   "execution_count": 6,
   "metadata": {},
   "outputs": [
    {
     "name": "stderr",
     "output_type": "stream",
     "text": [
      "No artists with labels found to put in legend.  Note that artists whose label start with an underscore are ignored when legend() is called with no argument.\n"
     ]
    },
    {
     "data": {
      "text/plain": [
       "<Figure size 640x480 with 0 Axes>"
      ]
     },
     "metadata": {},
     "output_type": "display_data"
    },
    {
     "name": "stdout",
     "output_type": "stream",
     "text": [
      "Robot position:  [0. 0.]\n",
      "Robot angle:  0.0\n",
      "Robot angular velocity:  -1.0471975511965976\n",
      "Robot speed:  [-2. -2.]\n",
      "Robot state:  STOP\n",
      "Robot trajectory angle:  -0.7853981633974484\n",
      "Robot top marker position:  [0 0]\n",
      "Robot bottom marker position:  [0 0]\n",
      "---------------------------\n",
      "TRAJECTORY 45.0\n"
     ]
    },
    {
     "data": {
      "image/png": "[encoded data removed]",
      "text/plain": [
       "<Figure size 500x500 with 1 Axes>"
      ]
     },
     "metadata": {},
     "output_type": "display_data"
    },
    {
     "data": {
      "text/plain": [
       "<Figure size 640x480 with 0 Axes>"
      ]
     },
     "metadata": {},
     "output_type": "display_data"
    }
   ],
   "source": [
    "from IPython.display import display, clear_output\n",
    "\n",
    "robot.phi = np.deg2rad(60)\n",
    "robot.pos = np.array([2,2])\n",
    "\n",
    "# make a 10 by 10 grid and plot\n",
    "goal_position = np.array([5,5])\n",
    "trajectory_position = np.array([3,3])\n",
    "grid_size = 10\n",
    "grid = np.zeros((10, 10))\n",
    "\n",
    " # Plotting the grid\n",
    "plt.figure(figsize=(5, 5))\n",
    "\n",
    "# Plot the grid lines\n",
    "plt.grid(True)\n",
    "\n",
    "plt.xlim(0, grid_size)\n",
    "plt.ylim(0, grid_size)\n",
    "\n",
    "plt.xticks(np.arange(0, grid_size + 1, 1))\n",
    "plt.yticks(np.arange(0, grid_size + 1, 1))\n",
    "\n",
    "\n",
    "# Set labels and title\n",
    "plt.xlabel('X-axis')\n",
    "plt.ylabel('Y-axis')\n",
    "plt.title('Grid with Robot and Orientation')\n",
    "\n",
    "plt.plot([robot.pos[0], robot.pos[0] + np.cos(robot.phi) * 0.5],\n",
    "         [robot.pos[1], robot.pos[1] + np.sin(robot.phi) * 0.5],\n",
    "        color='orange', linestyle='--')\n",
    "plt.plot(robot.pos[0], robot.pos[1], 'bo')\n",
    "\n",
    "        # Plot the goal position\n",
    "plt.plot(goal_position[0], goal_position[1], 'ro')\n",
    "plt.plot(trajectory_position[0], trajectory_position[1], 'o')\n",
    "\n",
    "# Plot the trajectory\n",
    "plt.plot([trajectory_position[0], goal_position[0]],\n",
    "        [trajectory_position[1], goal_position[1]],\n",
    "        color='red', linestyle='--')\n",
    "\n",
    "robot.update(np.arctan2(goal_position[1] - trajectory_position[1], goal_position[0] - trajectory_position[0]))\n",
    "\n",
    "# Show the plot\n",
    "plt.legend()\n",
    "#plt.show()\n",
    "display(plt.figure())\n",
    "\n",
    "robot.print_status()\n",
    "print(\"TRAJECTORY\", np.rad2deg(np.arctan2(goal_position[1] - trajectory_position[1], goal_position[0] - trajectory_position[0])))"
   ]
  }
 ],
 "metadata": {
  "kernelspec": {
   "display_name": "Python 3",
   "language": "python",
   "name": "python3"
  },
  "language_info": {
   "codemirror_mode": {
    "name": "ipython",
    "version": 3
   },
   "file_extension": ".py",
   "mimetype": "text/x-python",
   "name": "python",
   "nbconvert_exporter": "python",
   "pygments_lexer": "ipython3",
   "version": "3.11.5"
  }
 },
 "nbformat": 4,
 "nbformat_minor": 2
}
