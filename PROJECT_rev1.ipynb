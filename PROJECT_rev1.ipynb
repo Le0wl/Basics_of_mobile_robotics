{
 "cells": [
  {
   "cell_type": "markdown",
   "metadata": {},
   "source": [
    "## 1. Robot and Map classes\n"
   ]
  },
  {
   "cell_type": "code",
   "execution_count": 1,
   "metadata": {},
   "outputs": [],
   "source": [
    "import numpy as np\n",
    "import matplotlib.pyplot as plt\n",
    "import time "
   ]
  },
  {
   "cell_type": "code",
   "execution_count": 2,
   "metadata": {},
   "outputs": [],
   "source": [
    "# import custom modules\n",
    "\n",
    "import sys \n",
    "sys.path.append('.\\src')\n",
    "\n",
    "from robot import *\n",
    "\n"
   ]
  },
  {
   "cell_type": "code",
   "execution_count": 3,
   "metadata": {},
   "outputs": [],
   "source": [
    "# create instances\n",
    "robot = robot()"
   ]
  },
  {
   "cell_type": "code",
   "execution_count": 4,
   "metadata": {},
   "outputs": [
    {
     "name": "stdout",
     "output_type": "stream",
     "text": [
      "Robot position:  [0.5  0.75]\n",
      "Robot angle:  56.309932474020215\n",
      "Robot angular velocity:  0\n",
      "Robot speed:  [0 0]\n",
      "Robot state:  STOP\n",
      "Robot trajectory angle:  21.309932474020215\n",
      "Robot top marker position:  [1, 1.5]\n",
      "Robot bottom marker position:  [0, 0]\n",
      "---------------------------\n"
     ]
    }
   ],
   "source": [
    "robot.pos_marker_top = [1,1.5]\n",
    "robot.pos_marker_bottom = [0,0]\n",
    "robot.update(35)\n",
    "robot.print_status()"
   ]
  }
 ],
 "metadata": {
  "kernelspec": {
   "display_name": "Python 3",
   "language": "python",
   "name": "python3"
  },
  "language_info": {
   "codemirror_mode": {
    "name": "ipython",
    "version": 3
   },
   "file_extension": ".py",
   "mimetype": "text/x-python",
   "name": "python",
   "nbconvert_exporter": "python",
   "pygments_lexer": "ipython3",
   "version": "3.11.5"
  }
 },
 "nbformat": 4,
 "nbformat_minor": 2
}
