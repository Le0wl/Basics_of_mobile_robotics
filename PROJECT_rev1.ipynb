{
 "cells": [
  {
   "cell_type": "code",
   "execution_count": null,
   "metadata": {},
   "outputs": [],
   "source": [
    "# Create a class for the robot\n",
    "# Class contains parameters such as speed, state...\n",
    "# It also contains the states like position, angle...\n",
    "\n",
    "class robot "
   ]
  }
 ],
 "metadata": {
  "language_info": {
   "name": "python"
  }
 },
 "nbformat": 4,
 "nbformat_minor": 2
}
