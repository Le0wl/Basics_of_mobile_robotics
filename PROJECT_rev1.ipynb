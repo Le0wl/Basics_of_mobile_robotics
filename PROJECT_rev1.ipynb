{
 "cells": [
  {
   "cell_type": "markdown",
   "metadata": {},
   "source": [
    "## 1. Robot and Map classes\n"
   ]
  },
  {
   "cell_type": "code",
   "execution_count": 1,
   "metadata": {},
   "outputs": [],
   "source": [
    "import numpy as np\n",
    "import matplotlib.pyplot as plt\n",
    "import time "
   ]
  },
  {
   "cell_type": "code",
   "execution_count": 2,
   "metadata": {},
   "outputs": [
    {
     "name": "stdout",
     "output_type": "stream",
     "text": [
      "MAIN\n"
     ]
    }
   ],
   "source": [
    "import sys \n",
    "sys.path.append('.\\src')\n",
    "\n",
    "from main import *\n",
    "\n"
   ]
  },
  {
   "cell_type": "code",
   "execution_count": 4,
   "metadata": {},
   "outputs": [
    {
     "data": {
      "text/plain": [
       "Node 403e6256-30ac-42f4-bb1b-1c2b7dabf7d5"
      ]
     },
     "execution_count": 4,
     "metadata": {},
     "output_type": "execute_result"
    }
   ],
   "source": [
    "from tdmclient import ClientAsync\n",
    "client = ClientAsync()\n",
    "node = await client.wait_for_node()\n",
    "await node.lock()"
   ]
  },
  {
   "cell_type": "code",
   "execution_count": 5,
   "metadata": {},
   "outputs": [
    {
     "ename": "KeyboardInterrupt",
     "evalue": "",
     "output_type": "error",
     "traceback": [
      "\u001b[1;31m---------------------------------------------------------------------------\u001b[0m",
      "\u001b[1;31mKeyboardInterrupt\u001b[0m                         Traceback (most recent call last)",
      "\u001b[1;32mc:\\Users\\david\\Desktop\\BOMR project\\Basics_of_mobile_robotics\\PROJECT_rev1.ipynb Cell 5\u001b[0m line \u001b[0;36m1\n\u001b[0;32m      <a href='vscode-notebook-cell:/c%3A/Users/david/Desktop/BOMR%20project/Basics_of_mobile_robotics/PROJECT_rev1.ipynb#W4sZmlsZQ%3D%3D?line=1'>2</a>\u001b[0m     \u001b[39mreturn\u001b[39;00m {\n\u001b[0;32m      <a href='vscode-notebook-cell:/c%3A/Users/david/Desktop/BOMR%20project/Basics_of_mobile_robotics/PROJECT_rev1.ipynb#W4sZmlsZQ%3D%3D?line=2'>3</a>\u001b[0m         \u001b[39m\"\u001b[39m\u001b[39mmotor.left.target\u001b[39m\u001b[39m\"\u001b[39m: [left],\n\u001b[0;32m      <a href='vscode-notebook-cell:/c%3A/Users/david/Desktop/BOMR%20project/Basics_of_mobile_robotics/PROJECT_rev1.ipynb#W4sZmlsZQ%3D%3D?line=3'>4</a>\u001b[0m         \u001b[39m\"\u001b[39m\u001b[39mmotor.right.target\u001b[39m\u001b[39m\"\u001b[39m: [right],\n\u001b[0;32m      <a href='vscode-notebook-cell:/c%3A/Users/david/Desktop/BOMR%20project/Basics_of_mobile_robotics/PROJECT_rev1.ipynb#W4sZmlsZQ%3D%3D?line=4'>5</a>\u001b[0m     }\n\u001b[0;32m      <a href='vscode-notebook-cell:/c%3A/Users/david/Desktop/BOMR%20project/Basics_of_mobile_robotics/PROJECT_rev1.ipynb#W4sZmlsZQ%3D%3D?line=8'>9</a>\u001b[0m \u001b[39mwhile\u001b[39;00m \u001b[39mTrue\u001b[39;00m:\n\u001b[1;32m---> <a href='vscode-notebook-cell:/c%3A/Users/david/Desktop/BOMR%20project/Basics_of_mobile_robotics/PROJECT_rev1.ipynb#W4sZmlsZQ%3D%3D?line=9'>10</a>\u001b[0m     v \u001b[39m=\u001b[39m update_main()\n\u001b[0;32m     <a href='vscode-notebook-cell:/c%3A/Users/david/Desktop/BOMR%20project/Basics_of_mobile_robotics/PROJECT_rev1.ipynb#W4sZmlsZQ%3D%3D?line=10'>11</a>\u001b[0m     node\u001b[39m.\u001b[39msend_set_variables(v)\n\u001b[0;32m     <a href='vscode-notebook-cell:/c%3A/Users/david/Desktop/BOMR%20project/Basics_of_mobile_robotics/PROJECT_rev1.ipynb#W4sZmlsZQ%3D%3D?line=11'>12</a>\u001b[0m     \u001b[39m#print(v)\u001b[39;00m\n",
      "File \u001b[1;32mc:\\Users\\david\\Desktop\\BOMR project\\Basics_of_mobile_robotics\\.\\src\\main.py:68\u001b[0m, in \u001b[0;36mupdate_main\u001b[1;34m()\u001b[0m\n\u001b[0;32m     56\u001b[0m \u001b[39m\u001b[39m\u001b[39m\"\"\"\u001b[39;00m\n\u001b[0;32m     57\u001b[0m \u001b[39mv = {\"motor.left.target\": [0],\u001b[39;00m\n\u001b[0;32m     58\u001b[0m \u001b[39m         \"motor.right.target\": [0],}\u001b[39;00m\n\u001b[1;32m   (...)\u001b[0m\n\u001b[0;32m     62\u001b[0m \u001b[39m    robot.stop()\u001b[39;00m\n\u001b[0;32m     63\u001b[0m \u001b[39m\"\"\"\u001b[39;00m\n\u001b[0;32m     67\u001b[0m \u001b[39m#print(\"TOP RIGHT: \",map_base.top_right)\u001b[39;00m\n\u001b[1;32m---> 68\u001b[0m time\u001b[39m.\u001b[39msleep(\u001b[39m0.1\u001b[39m)\n\u001b[0;32m     70\u001b[0m \u001b[39m#distance_horizontal = np.linalg.norm(map_base.bottom_left - map_base.bottom_right)\u001b[39;00m\n\u001b[0;32m     71\u001b[0m distance_vertical \u001b[39m=\u001b[39m np\u001b[39m.\u001b[39mlinalg\u001b[39m.\u001b[39mnorm(map_base\u001b[39m.\u001b[39mbottom_left \u001b[39m-\u001b[39m map_base\u001b[39m.\u001b[39mtop_left)\n",
      "\u001b[1;31mKeyboardInterrupt\u001b[0m: "
     ]
    }
   ],
   "source": [
    "\n",
    "def motors(left, right):\n",
    "    return {\n",
    "        \"motor.left.target\": [left],\n",
    "        \"motor.right.target\": [right],\n",
    "    }\n",
    "\n",
    "\n",
    "\n",
    "while True:\n",
    "    v = update_main()\n",
    "    node.send_set_variables(v)\n",
    "    #print(v)\n"
   ]
  },
  {
   "cell_type": "code",
   "execution_count": 6,
   "metadata": {},
   "outputs": [],
   "source": [
    "node.send_set_variables(motors(0,0))"
   ]
  },
  {
   "cell_type": "code",
   "execution_count": null,
   "metadata": {},
   "outputs": [],
   "source": [
    "import cv2\n",
    "import matplotlib.pyplot as plt\n",
    "\n",
    "\n",
    "def generate_single_marker(aruco_dict):\n",
    "   marker_size = int(input(\"Enter the marker size: \"))\n",
    "   marker_id = int(input(\"Enter the marker ID: \"))\n",
    "\n",
    "   marker_img = cv2.aruco.generateImageMarker(aruco_dict, marker_id,\n",
    "    marker_size)\n",
    "\n",
    "   cv2.imwrite(\"marker_{}.png\".format(marker_id), marker_img)\n",
    "\n",
    "   marker_img = cv2.imread(\"marker_{}.png\".format(marker_id))\n",
    "\n",
    "   cv2.imshow(\"Marker\", marker_img)\n",
    "\n",
    "   print(\"Dimensions:\", marker_img.shape)\n",
    "\n",
    "   cv2.waitKey(0)\n",
    "\n",
    "def generate_bulk_markers(aruco_dict):\n",
    "   marker_size = int(input(\"Enter the marker size: \"))\n",
    "   num_markers = int(input(\"Enter the number of markers to generate: \"))\n",
    "   marker_imgs = []\n",
    "\n",
    "   for marker_id in range(num_markers):\n",
    "       marker_img = cv2.aruco.generateImageMarker(aruco_dict, marker_id,marker_size)\n",
    "\n",
    "       cv2.imwrite(\"marker_{}.png\".format(marker_id), marker_img)\n",
    "       marker_imgs.append(cv2.imread(\"marker_{}.png\".format(marker_id)))\n",
    "\n",
    "   for marker_img in marker_imgs:\n",
    "       cv2.imshow(\"Marker\", marker_img)\n",
    "       print(\"Dimensions:\", marker_img.shape)\n",
    "       cv2.waitKey(0)\n",
    "\n",
    "def main():\n",
    "   aruco_dict = cv2.aruco.getPredefinedDictionary(cv2.aruco.DICT_4X4_50)\n",
    "\n",
    "   user_input = input(\"Press '1' to generate a single marker or \"\n",
    "                       \"'2' to generate markers in bulk: \")\n",
    "\n",
    "   if user_input == \"1\":\n",
    "       generate_single_marker(aruco_dict)\n",
    "   elif user_input == \"2\":\n",
    "       generate_bulk_markers(aruco_dict)\n",
    "   else:\n",
    "       print(\"Invalid input. Please try again.\")\n",
    "\n",
    "\n",
    "main()\n",
    "\n"
   ]
  },
  {
   "cell_type": "code",
   "execution_count": null,
   "metadata": {},
   "outputs": [],
   "source": [
    "for i in range(3):\n",
    "    print(i)\n",
    "    \n",
    "    \n",
    "    # Path: PROJECT_rev1.ipynb"
   ]
  }
 ],
 "metadata": {
  "kernelspec": {
   "display_name": "Python 3",
   "language": "python",
   "name": "python3"
  },
  "language_info": {
   "codemirror_mode": {
    "name": "ipython",
    "version": 3
   },
   "file_extension": ".py",
   "mimetype": "text/x-python",
   "name": "python",
   "nbconvert_exporter": "python",
   "pygments_lexer": "ipython3",
   "version": "3.11.5"
  }
 },
 "nbformat": 4,
 "nbformat_minor": 2
}
