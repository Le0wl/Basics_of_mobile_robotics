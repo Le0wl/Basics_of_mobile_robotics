{
 "cells": [
  {
   "cell_type": "markdown",
   "metadata": {},
   "source": [
    "## 1. Robot and Map classes\n"
   ]
  },
  {
   "cell_type": "code",
   "execution_count": 2,
   "metadata": {},
   "outputs": [],
   "source": [
    "import numpy as np\n",
    "import matplotlib.pyplot as plt\n",
    "import time "
   ]
  },
  {
   "cell_type": "code",
   "execution_count": 3,
   "metadata": {},
   "outputs": [
    {
     "name": "stdout",
     "output_type": "stream",
     "text": [
      "Thymio 1: (208.93, 166.0)\n",
      "Thymio 2: (178.87, 166.0)\n",
      "Goal_Center 1: (144.67, 70.0)\n",
      "Thymio 1: (208.6, 165.6)\n",
      "Thymio 2: (178.27, 165.3)\n",
      "Goal_Center 1: (146.33, 70.0)\n",
      "Thymio 1: (208.77, 165.5)\n",
      "Thymio 2: (178.2, 165.2)\n",
      "Green Object 1: (241.95, 77.95)\n",
      "Green Object 2: (106.96, 69.05)\n",
      "Green Object 3: (69.96, 228.92)\n",
      "Green Object 4: (255.88, 230.88)\n",
      "Invalid coordinate format: ('top_right', (241.95, 77.95))\n",
      "Invalid coordinate format: ('top_left', (106.96, 69.05))\n",
      "Invalid coordinate format: ('bottom_left', (69.96, 228.92))\n",
      "Invalid coordinate format: ('bottom_right', (255.88, 230.88))\n",
      "Goal_Center 1: (145.33, 70.0)\n",
      "Thymio 1: (208.7, 165.67)\n",
      "Thymio 2: (178.27, 165.27)\n",
      "Goal_Center 1: (144.33, 70.0)\n",
      "Thymio 1: (208.67, 165.67)\n",
      "Thymio 2: (178.17, 165.33)\n",
      "Goal_Center 1: (145.33, 70.0)\n",
      "Thymio 1: (208.6, 165.53)\n",
      "Thymio 2: (178.33, 165.3)\n",
      "Green Object 1: (241.95, 77.95)\n",
      "Green Object 2: (106.96, 68.96)\n",
      "Green Object 3: (69.96, 228.96)\n",
      "Green Object 4: (255.95, 230.95)\n",
      "Invalid coordinate format: ('top_right', (241.95, 77.95))\n",
      "Invalid coordinate format: ('top_left', (106.96, 68.96))\n",
      "Invalid coordinate format: ('bottom_left', (69.96, 228.96))\n",
      "Invalid coordinate format: ('bottom_right', (255.95, 230.95))\n",
      "Goal_Center 1: (145.67, 70.0)\n",
      "Thymio 1: (208.53, 165.83)\n",
      "Thymio 2: (178.3, 165.3)\n",
      "Goal_Center 1: (148.0, 70.0)\n",
      "Thymio 1: (208.6, 165.6)\n",
      "Thymio 2: (178.27, 165.43)\n"
     ]
    },
    {
     "ename": "KeyboardInterrupt",
     "evalue": "",
     "output_type": "error",
     "traceback": [
      "\u001b[1;31m---------------------------------------------------------------------------\u001b[0m",
      "\u001b[1;31mKeyboardInterrupt\u001b[0m                         Traceback (most recent call last)",
      "\u001b[1;32mc:\\Users\\david\\Desktop\\BOMR project\\Basics_of_mobile_robotics\\PROJECT_rev1.ipynb Cell 3\u001b[0m line \u001b[0;36m4\n\u001b[0;32m      <a href='vscode-notebook-cell:/c%3A/Users/david/Desktop/BOMR%20project/Basics_of_mobile_robotics/PROJECT_rev1.ipynb#W2sZmlsZQ%3D%3D?line=0'>1</a>\u001b[0m \u001b[39mimport\u001b[39;00m \u001b[39msys\u001b[39;00m \n\u001b[0;32m      <a href='vscode-notebook-cell:/c%3A/Users/david/Desktop/BOMR%20project/Basics_of_mobile_robotics/PROJECT_rev1.ipynb#W2sZmlsZQ%3D%3D?line=1'>2</a>\u001b[0m sys\u001b[39m.\u001b[39mpath\u001b[39m.\u001b[39mappend(\u001b[39m'\u001b[39m\u001b[39m.\u001b[39m\u001b[39m\\\u001b[39m\u001b[39msrc\u001b[39m\u001b[39m'\u001b[39m)\n\u001b[1;32m----> <a href='vscode-notebook-cell:/c%3A/Users/david/Desktop/BOMR%20project/Basics_of_mobile_robotics/PROJECT_rev1.ipynb#W2sZmlsZQ%3D%3D?line=3'>4</a>\u001b[0m \u001b[39mfrom\u001b[39;00m \u001b[39mmain\u001b[39;00m \u001b[39mimport\u001b[39;00m \u001b[39m*\u001b[39m\n",
      "File \u001b[1;32mc:\\Users\\david\\Desktop\\BOMR project\\Basics_of_mobile_robotics\\.\\src\\main.py:16\u001b[0m\n\u001b[0;32m     12\u001b[0m \u001b[39mmap\u001b[39m \u001b[39m=\u001b[39m ObjectTracker()\n\u001b[0;32m     15\u001b[0m thymio_markers \u001b[39m=\u001b[39m np\u001b[39m.\u001b[39marray([[\u001b[39m0\u001b[39m,\u001b[39m0\u001b[39m],[\u001b[39m0\u001b[39m,\u001b[39m0\u001b[39m]])\n\u001b[1;32m---> 16\u001b[0m \u001b[39mmap\u001b[39;49m\u001b[39m.\u001b[39;49mmain()\n\u001b[0;32m     18\u001b[0m start \u001b[39m=\u001b[39m time\u001b[39m.\u001b[39mtime()\n\u001b[0;32m     19\u001b[0m \u001b[39m# refresh each second \u001b[39;00m\n",
      "File \u001b[1;32mc:\\Users\\david\\Desktop\\BOMR project\\Basics_of_mobile_robotics\\.\\src\\map.py:381\u001b[0m, in \u001b[0;36mObjectTracker.main\u001b[1;34m(self)\u001b[0m\n\u001b[0;32m    378\u001b[0m start_time \u001b[39m=\u001b[39m time\u001b[39m.\u001b[39mtime()\n\u001b[0;32m    380\u001b[0m \u001b[39m# Read a frame from the webcam\u001b[39;00m\n\u001b[1;32m--> 381\u001b[0m ret, frame \u001b[39m=\u001b[39m video\u001b[39m.\u001b[39;49mread()\n\u001b[0;32m    382\u001b[0m frame \u001b[39m=\u001b[39m cv2\u001b[39m.\u001b[39mresize(frame, [frame_width \u001b[39m/\u001b[39m\u001b[39m/\u001b[39m \u001b[39m2\u001b[39m, frame_height \u001b[39m/\u001b[39m\u001b[39m/\u001b[39m \u001b[39m2\u001b[39m])\n\u001b[0;32m    384\u001b[0m \u001b[39mif\u001b[39;00m \u001b[39mnot\u001b[39;00m ret \u001b[39mor\u001b[39;00m frame \u001b[39mis\u001b[39;00m \u001b[39mNone\u001b[39;00m:\n",
      "\u001b[1;31mKeyboardInterrupt\u001b[0m: "
     ]
    }
   ],
   "source": [
    "import sys \n",
    "sys.path.append('.\\src')\n",
    "\n",
    "from main import *\n",
    "\n"
   ]
  },
  {
   "cell_type": "code",
   "execution_count": 3,
   "metadata": {},
   "outputs": [],
   "source": [
    "from tdmclient import ClientAsync\n",
    "client = ClientAsync()\n",
    "node = await client.wait_for_node()\n",
    "await node.lock()"
   ]
  },
  {
   "cell_type": "code",
   "execution_count": 4,
   "metadata": {},
   "outputs": [
    {
     "ename": "NameError",
     "evalue": "name 'thymio_markers' is not defined",
     "output_type": "error",
     "traceback": [
      "\u001b[1;31m---------------------------------------------------------------------------\u001b[0m",
      "\u001b[1;31mNameError\u001b[0m                                 Traceback (most recent call last)",
      "\u001b[1;32mc:\\Users\\david\\Desktop\\BOMR project\\Basics_of_mobile_robotics\\PROJECT_rev1.ipynb Cell 5\u001b[0m line \u001b[0;36m1\n\u001b[1;32m----> <a href='vscode-notebook-cell:/c%3A/Users/david/Desktop/BOMR%20project/Basics_of_mobile_robotics/PROJECT_rev1.ipynb#W4sZmlsZQ%3D%3D?line=0'>1</a>\u001b[0m plt\u001b[39m.\u001b[39mplot(thymio_markers[:,\u001b[39m0\u001b[39m],thymio_markers[:,\u001b[39m1\u001b[39m])\n\u001b[0;32m      <a href='vscode-notebook-cell:/c%3A/Users/david/Desktop/BOMR%20project/Basics_of_mobile_robotics/PROJECT_rev1.ipynb#W4sZmlsZQ%3D%3D?line=1'>2</a>\u001b[0m plt\u001b[39m.\u001b[39mshow()\n",
      "\u001b[1;31mNameError\u001b[0m: name 'thymio_markers' is not defined"
     ]
    },
    {
     "ename": "",
     "evalue": "",
     "output_type": "error",
     "traceback": [
      "\u001b[1;31mThe Kernel crashed while executing code in the the current cell or a previous cell. Please review the code in the cell(s) to identify a possible cause of the failure. Click <a href='https://aka.ms/vscodeJupyterKernelCrash'>here</a> for more info. View Jupyter <a href='command:jupyter.viewOutput'>log</a> for further details."
     ]
    }
   ],
   "source": [
    "\n"
   ]
  }
 ],
 "metadata": {
  "kernelspec": {
   "display_name": "Python 3",
   "language": "python",
   "name": "python3"
  },
  "language_info": {
   "codemirror_mode": {
    "name": "ipython",
    "version": 3
   },
   "file_extension": ".py",
   "mimetype": "text/x-python",
   "name": "python",
   "nbconvert_exporter": "python",
   "pygments_lexer": "ipython3",
   "version": "3.11.5"
  }
 },
 "nbformat": 4,
 "nbformat_minor": 2
}
