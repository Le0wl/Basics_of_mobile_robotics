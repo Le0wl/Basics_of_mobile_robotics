{
 "cells": [
  {
   "cell_type": "markdown",
   "metadata": {},
   "source": [
    "## 1. Robot and Map classes\n"
   ]
  },
  {
   "cell_type": "code",
   "execution_count": 2,
   "metadata": {},
   "outputs": [],
   "source": [
    "import numpy as np\n",
    "import matplotlib.pyplot as plt\n",
    "import time "
   ]
  },
  {
   "cell_type": "code",
   "execution_count": 3,
   "metadata": {},
   "outputs": [
    {
     "name": "stdout",
     "output_type": "stream",
     "text": [
      "Thymio 1: (208.93, 166.0)\n",
      "Thymio 2: (178.87, 166.0)\n",
      "Goal_Center 1: (144.67, 70.0)\n",
      "Thymio 1: (208.6, 165.6)\n",
      "Thymio 2: (178.27, 165.3)\n",
      "Goal_Center 1: (146.33, 70.0)\n",
      "Thymio 1: (208.77, 165.5)\n",
      "Thymio 2: (178.2, 165.2)\n",
      "Green Object 1: (241.95, 77.95)\n",
      "Green Object 2: (106.96, 69.05)\n",
      "Green Object 3: (69.96, 228.92)\n",
      "Green Object 4: (255.88, 230.88)\n",
      "Invalid coordinate format: ('top_right', (241.95, 77.95))\n",
      "Invalid coordinate format: ('top_left', (106.96, 69.05))\n",
      "Invalid coordinate format: ('bottom_left', (69.96, 228.92))\n",
      "Invalid coordinate format: ('bottom_right', (255.88, 230.88))\n",
      "Goal_Center 1: (145.33, 70.0)\n",
      "Thymio 1: (208.7, 165.67)\n",
      "Thymio 2: (178.27, 165.27)\n",
      "Goal_Center 1: (144.33, 70.0)\n",
      "Thymio 1: (208.67, 165.67)\n",
      "Thymio 2: (178.17, 165.33)\n",
      "Goal_Center 1: (145.33, 70.0)\n",
      "Thymio 1: (208.6, 165.53)\n",
      "Thymio 2: (178.33, 165.3)\n",
      "Green Object 1: (241.95, 77.95)\n",
      "Green Object 2: (106.96, 68.96)\n",
      "Green Object 3: (69.96, 228.96)\n",
      "Green Object 4: (255.95, 230.95)\n",
      "Invalid coordinate format: ('top_right', (241.95, 77.95))\n",
      "Invalid coordinate format: ('top_left', (106.96, 68.96))\n",
      "Invalid coordinate format: ('bottom_left', (69.96, 228.96))\n",
      "Invalid coordinate format: ('bottom_right', (255.95, 230.95))\n",
      "Goal_Center 1: (145.67, 70.0)\n",
      "Thymio 1: (208.53, 165.83)\n",
      "Thymio 2: (178.3, 165.3)\n",
      "Goal_Center 1: (148.0, 70.0)\n",
      "Thymio 1: (208.6, 165.6)\n",
      "Thymio 2: (178.27, 165.43)\n"
     ]
    },
    {
     "ename": "KeyboardInterrupt",
     "evalue": "",
     "output_type": "error",
     "traceback": [
      "\u001b[1;31m---------------------------------------------------------------------------\u001b[0m",
      "\u001b[1;31mKeyboardInterrupt\u001b[0m                         Traceback (most recent call last)",
      "\u001b[1;32mc:\\Users\\david\\Desktop\\BOMR project\\Basics_of_mobile_robotics\\PROJECT_rev1.ipynb Cell 3\u001b[0m line \u001b[0;36m4\n\u001b[0;32m      <a href='vscode-notebook-cell:/c%3A/Users/david/Desktop/BOMR%20project/Basics_of_mobile_robotics/PROJECT_rev1.ipynb#W2sZmlsZQ%3D%3D?line=0'>1</a>\u001b[0m \u001b[39mimport\u001b[39;00m \u001b[39msys\u001b[39;00m \n\u001b[0;32m      <a href='vscode-notebook-cell:/c%3A/Users/david/Desktop/BOMR%20project/Basics_of_mobile_robotics/PROJECT_rev1.ipynb#W2sZmlsZQ%3D%3D?line=1'>2</a>\u001b[0m sys\u001b[39m.\u001b[39mpath\u001b[39m.\u001b[39mappend(\u001b[39m'\u001b[39m\u001b[39m.\u001b[39m\u001b[39m\\\u001b[39m\u001b[39msrc\u001b[39m\u001b[39m'\u001b[39m)\n\u001b[1;32m----> <a href='vscode-notebook-cell:/c%3A/Users/david/Desktop/BOMR%20project/Basics_of_mobile_robotics/PROJECT_rev1.ipynb#W2sZmlsZQ%3D%3D?line=3'>4</a>\u001b[0m \u001b[39mfrom\u001b[39;00m \u001b[39mmain\u001b[39;00m \u001b[39mimport\u001b[39;00m \u001b[39m*\u001b[39m\n",
      "File \u001b[1;32mc:\\Users\\david\\Desktop\\BOMR project\\Basics_of_mobile_robotics\\.\\src\\main.py:16\u001b[0m\n\u001b[0;32m     12\u001b[0m \u001b[39mmap\u001b[39m \u001b[39m=\u001b[39m ObjectTracker()\n\u001b[0;32m     15\u001b[0m thymio_markers \u001b[39m=\u001b[39m np\u001b[39m.\u001b[39marray([[\u001b[39m0\u001b[39m,\u001b[39m0\u001b[39m],[\u001b[39m0\u001b[39m,\u001b[39m0\u001b[39m]])\n\u001b[1;32m---> 16\u001b[0m \u001b[39mmap\u001b[39;49m\u001b[39m.\u001b[39;49mmain()\n\u001b[0;32m     18\u001b[0m start \u001b[39m=\u001b[39m time\u001b[39m.\u001b[39mtime()\n\u001b[0;32m     19\u001b[0m \u001b[39m# refresh each second \u001b[39;00m\n",
      "File \u001b[1;32mc:\\Users\\david\\Desktop\\BOMR project\\Basics_of_mobile_robotics\\.\\src\\map.py:381\u001b[0m, in \u001b[0;36mObjectTracker.main\u001b[1;34m(self)\u001b[0m\n\u001b[0;32m    378\u001b[0m start_time \u001b[39m=\u001b[39m time\u001b[39m.\u001b[39mtime()\n\u001b[0;32m    380\u001b[0m \u001b[39m# Read a frame from the webcam\u001b[39;00m\n\u001b[1;32m--> 381\u001b[0m ret, frame \u001b[39m=\u001b[39m video\u001b[39m.\u001b[39;49mread()\n\u001b[0;32m    382\u001b[0m frame \u001b[39m=\u001b[39m cv2\u001b[39m.\u001b[39mresize(frame, [frame_width \u001b[39m/\u001b[39m\u001b[39m/\u001b[39m \u001b[39m2\u001b[39m, frame_height \u001b[39m/\u001b[39m\u001b[39m/\u001b[39m \u001b[39m2\u001b[39m])\n\u001b[0;32m    384\u001b[0m \u001b[39mif\u001b[39;00m \u001b[39mnot\u001b[39;00m ret \u001b[39mor\u001b[39;00m frame \u001b[39mis\u001b[39;00m \u001b[39mNone\u001b[39;00m:\n",
      "\u001b[1;31mKeyboardInterrupt\u001b[0m: "
     ]
    }
   ],
   "source": [
    "import sys \n",
    "sys.path.append('.\\src')\n",
    "\n",
    "from main import *\n",
    "\n"
   ]
  },
  {
   "cell_type": "code",
   "execution_count": 3,
   "metadata": {},
   "outputs": [],
   "source": [
    "from tdmclient import ClientAsync\n",
    "client = ClientAsync()\n",
    "node = await client.wait_for_node()\n",
    "await node.lock()"
   ]
  },
  {
   "cell_type": "code",
   "execution_count": 5,
   "metadata": {},
   "outputs": [
    {
     "ename": "TypeError",
     "evalue": "'list' object is not callable",
     "output_type": "error",
     "traceback": [
      "\u001b[1;31m---------------------------------------------------------------------------\u001b[0m",
      "\u001b[1;31mTypeError\u001b[0m                                 Traceback (most recent call last)",
      "\u001b[1;32mc:\\Users\\david\\Desktop\\BOMR project\\Basics_of_mobile_robotics\\PROJECT_rev1.ipynb Cell 5\u001b[0m line \u001b[0;36m5\n\u001b[0;32m      <a href='vscode-notebook-cell:/c%3A/Users/david/Desktop/BOMR%20project/Basics_of_mobile_robotics/PROJECT_rev1.ipynb#W4sZmlsZQ%3D%3D?line=0'>1</a>\u001b[0m test \u001b[39m=\u001b[39m []\n\u001b[0;32m      <a href='vscode-notebook-cell:/c%3A/Users/david/Desktop/BOMR%20project/Basics_of_mobile_robotics/PROJECT_rev1.ipynb#W4sZmlsZQ%3D%3D?line=2'>3</a>\u001b[0m test\u001b[39m.\u001b[39mappend(([\u001b[39m1\u001b[39m,\u001b[39m2\u001b[39m],[\u001b[39m3\u001b[39m,\u001b[39m4\u001b[39m]))\n\u001b[1;32m----> <a href='vscode-notebook-cell:/c%3A/Users/david/Desktop/BOMR%20project/Basics_of_mobile_robotics/PROJECT_rev1.ipynb#W4sZmlsZQ%3D%3D?line=4'>5</a>\u001b[0m \u001b[39mprint\u001b[39m(test(\u001b[39m0\u001b[39;49m))\n",
      "\u001b[1;31mTypeError\u001b[0m: 'list' object is not callable"
     ]
    }
   ],
   "source": [
    "test = []\n",
    "\n",
    "test.append(([1,2],[3,4]))\n",
    "\n",
    "#print first\n"
   ]
  },
  {
   "cell_type": "code",
   "execution_count": 9,
   "metadata": {},
   "outputs": [
    {
     "ename": "error",
     "evalue": "OpenCV(4.8.1) D:\\a\\opencv-python\\opencv-python\\opencv\\modules\\objdetect\\src\\aruco\\aruco_dictionary.cpp:138: error: (-215:Assertion failed) sidePixels >= (markerSize + 2*borderBits) in function 'cv::aruco::Dictionary::generateImageMarker'\n",
     "output_type": "error",
     "traceback": [
      "\u001b[1;31m---------------------------------------------------------------------------\u001b[0m",
      "\u001b[1;31merror\u001b[0m                                     Traceback (most recent call last)",
      "\u001b[1;32mc:\\Users\\david\\Desktop\\BOMR project\\Basics_of_mobile_robotics\\PROJECT_rev1.ipynb Cell 6\u001b[0m line \u001b[0;36m5\n\u001b[0;32m     <a href='vscode-notebook-cell:/c%3A/Users/david/Desktop/BOMR%20project/Basics_of_mobile_robotics/PROJECT_rev1.ipynb#W5sZmlsZQ%3D%3D?line=48'>49</a>\u001b[0m    \u001b[39melse\u001b[39;00m:\n\u001b[0;32m     <a href='vscode-notebook-cell:/c%3A/Users/david/Desktop/BOMR%20project/Basics_of_mobile_robotics/PROJECT_rev1.ipynb#W5sZmlsZQ%3D%3D?line=49'>50</a>\u001b[0m        \u001b[39mprint\u001b[39m(\u001b[39m\"\u001b[39m\u001b[39mInvalid input. Please try again.\u001b[39m\u001b[39m\"\u001b[39m)\n\u001b[1;32m---> <a href='vscode-notebook-cell:/c%3A/Users/david/Desktop/BOMR%20project/Basics_of_mobile_robotics/PROJECT_rev1.ipynb#W5sZmlsZQ%3D%3D?line=52'>53</a>\u001b[0m main()\n",
      "\u001b[1;32mc:\\Users\\david\\Desktop\\BOMR project\\Basics_of_mobile_robotics\\PROJECT_rev1.ipynb Cell 6\u001b[0m line \u001b[0;36m4\n\u001b[0;32m     <a href='vscode-notebook-cell:/c%3A/Users/david/Desktop/BOMR%20project/Basics_of_mobile_robotics/PROJECT_rev1.ipynb#W5sZmlsZQ%3D%3D?line=41'>42</a>\u001b[0m user_input \u001b[39m=\u001b[39m \u001b[39minput\u001b[39m(\u001b[39m\"\u001b[39m\u001b[39mPress \u001b[39m\u001b[39m'\u001b[39m\u001b[39m1\u001b[39m\u001b[39m'\u001b[39m\u001b[39m to generate a single marker or \u001b[39m\u001b[39m\"\u001b[39m\n\u001b[0;32m     <a href='vscode-notebook-cell:/c%3A/Users/david/Desktop/BOMR%20project/Basics_of_mobile_robotics/PROJECT_rev1.ipynb#W5sZmlsZQ%3D%3D?line=42'>43</a>\u001b[0m                     \u001b[39m\"\u001b[39m\u001b[39m'\u001b[39m\u001b[39m2\u001b[39m\u001b[39m'\u001b[39m\u001b[39m to generate markers in bulk: \u001b[39m\u001b[39m\"\u001b[39m)\n\u001b[0;32m     <a href='vscode-notebook-cell:/c%3A/Users/david/Desktop/BOMR%20project/Basics_of_mobile_robotics/PROJECT_rev1.ipynb#W5sZmlsZQ%3D%3D?line=44'>45</a>\u001b[0m \u001b[39mif\u001b[39;00m user_input \u001b[39m==\u001b[39m \u001b[39m\"\u001b[39m\u001b[39m1\u001b[39m\u001b[39m\"\u001b[39m:\n\u001b[1;32m---> <a href='vscode-notebook-cell:/c%3A/Users/david/Desktop/BOMR%20project/Basics_of_mobile_robotics/PROJECT_rev1.ipynb#W5sZmlsZQ%3D%3D?line=45'>46</a>\u001b[0m     generate_single_marker(aruco_dict)\n\u001b[0;32m     <a href='vscode-notebook-cell:/c%3A/Users/david/Desktop/BOMR%20project/Basics_of_mobile_robotics/PROJECT_rev1.ipynb#W5sZmlsZQ%3D%3D?line=46'>47</a>\u001b[0m \u001b[39melif\u001b[39;00m user_input \u001b[39m==\u001b[39m \u001b[39m\"\u001b[39m\u001b[39m2\u001b[39m\u001b[39m\"\u001b[39m:\n\u001b[0;32m     <a href='vscode-notebook-cell:/c%3A/Users/david/Desktop/BOMR%20project/Basics_of_mobile_robotics/PROJECT_rev1.ipynb#W5sZmlsZQ%3D%3D?line=47'>48</a>\u001b[0m     generate_bulk_markers(aruco_dict)\n",
      "\u001b[1;32mc:\\Users\\david\\Desktop\\BOMR project\\Basics_of_mobile_robotics\\PROJECT_rev1.ipynb Cell 6\u001b[0m line \u001b[0;36m9\n\u001b[0;32m      <a href='vscode-notebook-cell:/c%3A/Users/david/Desktop/BOMR%20project/Basics_of_mobile_robotics/PROJECT_rev1.ipynb#W5sZmlsZQ%3D%3D?line=5'>6</a>\u001b[0m marker_size \u001b[39m=\u001b[39m \u001b[39mint\u001b[39m(\u001b[39minput\u001b[39m(\u001b[39m\"\u001b[39m\u001b[39mEnter the marker size: \u001b[39m\u001b[39m\"\u001b[39m))\n\u001b[0;32m      <a href='vscode-notebook-cell:/c%3A/Users/david/Desktop/BOMR%20project/Basics_of_mobile_robotics/PROJECT_rev1.ipynb#W5sZmlsZQ%3D%3D?line=6'>7</a>\u001b[0m marker_id \u001b[39m=\u001b[39m \u001b[39mint\u001b[39m(\u001b[39minput\u001b[39m(\u001b[39m\"\u001b[39m\u001b[39mEnter the marker ID: \u001b[39m\u001b[39m\"\u001b[39m))\n\u001b[1;32m----> <a href='vscode-notebook-cell:/c%3A/Users/david/Desktop/BOMR%20project/Basics_of_mobile_robotics/PROJECT_rev1.ipynb#W5sZmlsZQ%3D%3D?line=8'>9</a>\u001b[0m marker_img \u001b[39m=\u001b[39m cv2\u001b[39m.\u001b[39;49maruco\u001b[39m.\u001b[39;49mgenerateImageMarker(aruco_dict, marker_id,\n\u001b[0;32m     <a href='vscode-notebook-cell:/c%3A/Users/david/Desktop/BOMR%20project/Basics_of_mobile_robotics/PROJECT_rev1.ipynb#W5sZmlsZQ%3D%3D?line=9'>10</a>\u001b[0m  marker_size)\n\u001b[0;32m     <a href='vscode-notebook-cell:/c%3A/Users/david/Desktop/BOMR%20project/Basics_of_mobile_robotics/PROJECT_rev1.ipynb#W5sZmlsZQ%3D%3D?line=11'>12</a>\u001b[0m cv2\u001b[39m.\u001b[39mimwrite(\u001b[39m\"\u001b[39m\u001b[39mmarker_\u001b[39m\u001b[39m{}\u001b[39;00m\u001b[39m.png\u001b[39m\u001b[39m\"\u001b[39m\u001b[39m.\u001b[39mformat(marker_id), marker_img)\n\u001b[0;32m     <a href='vscode-notebook-cell:/c%3A/Users/david/Desktop/BOMR%20project/Basics_of_mobile_robotics/PROJECT_rev1.ipynb#W5sZmlsZQ%3D%3D?line=13'>14</a>\u001b[0m marker_img \u001b[39m=\u001b[39m cv2\u001b[39m.\u001b[39mimread(\u001b[39m\"\u001b[39m\u001b[39mmarker_\u001b[39m\u001b[39m{}\u001b[39;00m\u001b[39m.png\u001b[39m\u001b[39m\"\u001b[39m\u001b[39m.\u001b[39mformat(marker_id))\n",
      "\u001b[1;31merror\u001b[0m: OpenCV(4.8.1) D:\\a\\opencv-python\\opencv-python\\opencv\\modules\\objdetect\\src\\aruco\\aruco_dictionary.cpp:138: error: (-215:Assertion failed) sidePixels >= (markerSize + 2*borderBits) in function 'cv::aruco::Dictionary::generateImageMarker'\n"
     ]
    }
   ],
   "source": [
    "import cv2\n",
    "import matplotlib.pyplot as plt\n",
    "\n",
    "\n",
    "def generate_single_marker(aruco_dict):\n",
    "   marker_size = int(input(\"Enter the marker size: \"))\n",
    "   marker_id = int(input(\"Enter the marker ID: \"))\n",
    "\n",
    "   marker_img = cv2.aruco.generateImageMarker(aruco_dict, marker_id,\n",
    "    marker_size)\n",
    "\n",
    "   cv2.imwrite(\"marker_{}.png\".format(marker_id), marker_img)\n",
    "\n",
    "   marker_img = cv2.imread(\"marker_{}.png\".format(marker_id))\n",
    "\n",
    "   cv2.imshow(\"Marker\", marker_img)\n",
    "\n",
    "   print(\"Dimensions:\", marker_img.shape)\n",
    "\n",
    "   cv2.waitKey(0)\n",
    "\n",
    "def generate_bulk_markers(aruco_dict):\n",
    "   marker_size = int(input(\"Enter the marker size: \"))\n",
    "   num_markers = int(input(\"Enter the number of markers to generate: \"))\n",
    "   marker_imgs = []\n",
    "\n",
    "   for marker_id in range(num_markers):\n",
    "       marker_img = cv2.aruco.generateImageMarker(aruco_dict, marker_id,marker_size)\n",
    "\n",
    "       cv2.imwrite(\"marker_{}.png\".format(marker_id), marker_img)\n",
    "       marker_imgs.append(cv2.imread(\"marker_{}.png\".format(marker_id)))\n",
    "\n",
    "   for marker_img in marker_imgs:\n",
    "       cv2.imshow(\"Marker\", marker_img)\n",
    "       print(\"Dimensions:\", marker_img.shape)\n",
    "       cv2.waitKey(0)\n",
    "\n",
    "def main():\n",
    "   aruco_dict = cv2.aruco.getPredefinedDictionary(cv2.aruco.DICT_4X4_50)\n",
    "\n",
    "   user_input = input(\"Press '1' to generate a single marker or \"\n",
    "                       \"'2' to generate markers in bulk: \")\n",
    "\n",
    "   if user_input == \"1\":\n",
    "       generate_single_marker(aruco_dict)\n",
    "   elif user_input == \"2\":\n",
    "       generate_bulk_markers(aruco_dict)\n",
    "   else:\n",
    "       print(\"Invalid input. Please try again.\")\n",
    "\n",
    "\n",
    "main()\n",
    "\n"
   ]
  }
 ],
 "metadata": {
  "kernelspec": {
   "display_name": "Python 3",
   "language": "python",
   "name": "python3"
  },
  "language_info": {
   "codemirror_mode": {
    "name": "ipython",
    "version": 3
   },
   "file_extension": ".py",
   "mimetype": "text/x-python",
   "name": "python",
   "nbconvert_exporter": "python",
   "pygments_lexer": "ipython3",
   "version": "3.11.5"
  }
 },
 "nbformat": 4,
 "nbformat_minor": 2
}
