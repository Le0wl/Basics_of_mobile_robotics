{
 "cells": [
  {
   "cell_type": "markdown",
   "metadata": {},
   "source": [
    "## 1. Robot and Map classes\n"
   ]
  },
  {
   "cell_type": "code",
   "execution_count": 1,
   "metadata": {},
   "outputs": [],
   "source": [
    "import numpy as np\n",
    "import matplotlib.pyplot as plt\n",
    "import time "
   ]
  },
  {
   "cell_type": "code",
   "execution_count": 2,
   "metadata": {},
   "outputs": [
    {
     "name": "stdout",
     "output_type": "stream",
     "text": [
      "MAIN\n"
     ]
    }
   ],
   "source": [
    "import sys \n",
    "sys.path.append('.\\src')\n",
    "\n",
    "from main import *\n",
    "\n"
   ]
  },
  {
   "cell_type": "code",
   "execution_count": 3,
   "metadata": {},
   "outputs": [
    {
     "data": {
      "text/plain": [
       "Node 403e6256-30ac-42f4-bb1b-1c2b7dabf7d5"
      ]
     },
     "execution_count": 3,
     "metadata": {},
     "output_type": "execute_result"
    }
   ],
   "source": [
    "from tdmclient import ClientAsync\n",
    "client = ClientAsync()\n",
    "node = await client.wait_for_node()\n",
    "await node.lock()"
   ]
  },
  {
   "cell_type": "code",
   "execution_count": 4,
   "metadata": {},
   "outputs": [],
   "source": [
    "\n",
    "def motors(left, right):\n",
    "    return {\n",
    "        \"motor.left.target\": [left],\n",
    "        \"motor.right.target\": [right],\n",
    "    }\n",
    "\n",
    "\n",
    "\n",
    "while True:\n",
    "    v = update_main()\n",
    "    node.send_set_variables(v)\n",
    "    #print(v)\n"
   ]
  },
  {
   "cell_type": "code",
   "execution_count": 2,
   "metadata": {},
   "outputs": [],
   "source": [
    "def motors(left, right):\n",
    "    return {\n",
    "        \"motor.left.target\": [left],\n",
    "        \"motor.right.target\": [right],\n",
    "    }\n",
    "\n",
    "node.send_set_variables(motors(0,0))"
   ]
  },
  {
   "cell_type": "code",
   "execution_count": null,
   "metadata": {},
   "outputs": [],
   "source": [
    "import cv2\n",
    "import matplotlib.pyplot as plt\n",
    "\n",
    "\n",
    "def generate_single_marker(aruco_dict):\n",
    "   marker_size = int(input(\"Enter the marker size: \"))\n",
    "   marker_id = int(input(\"Enter the marker ID: \"))\n",
    "\n",
    "   marker_img = cv2.aruco.generateImageMarker(aruco_dict, marker_id,\n",
    "    marker_size)\n",
    "\n",
    "   cv2.imwrite(\"marker_{}.png\".format(marker_id), marker_img)\n",
    "\n",
    "   marker_img = cv2.imread(\"marker_{}.png\".format(marker_id))\n",
    "\n",
    "   cv2.imshow(\"Marker\", marker_img)\n",
    "\n",
    "   print(\"Dimensions:\", marker_img.shape)\n",
    "\n",
    "   cv2.waitKey(0)\n",
    "\n",
    "def generate_bulk_markers(aruco_dict):\n",
    "   marker_size = int(input(\"Enter the marker size: \"))\n",
    "   num_markers = int(input(\"Enter the number of markers to generate: \"))\n",
    "   marker_imgs = []\n",
    "\n",
    "   for marker_id in range(num_markers):\n",
    "       marker_img = cv2.aruco.generateImageMarker(aruco_dict, marker_id,marker_size)\n",
    "\n",
    "       cv2.imwrite(\"marker_{}.png\".format(marker_id), marker_img)\n",
    "       marker_imgs.append(cv2.imread(\"marker_{}.png\".format(marker_id)))\n",
    "\n",
    "   for marker_img in marker_imgs:\n",
    "       cv2.imshow(\"Marker\", marker_img)\n",
    "       print(\"Dimensions:\", marker_img.shape)\n",
    "       cv2.waitKey(0)\n",
    "\n",
    "def main():\n",
    "   aruco_dict = cv2.aruco.getPredefinedDictionary(cv2.aruco.DICT_4X4_50)\n",
    "\n",
    "   user_input = input(\"Press '1' to generate a single marker or \"\n",
    "                       \"'2' to generate markers in bulk: \")\n",
    "\n",
    "   if user_input == \"1\":\n",
    "       generate_single_marker(aruco_dict)\n",
    "   elif user_input == \"2\":\n",
    "       generate_bulk_markers(aruco_dict)\n",
    "   else:\n",
    "       print(\"Invalid input. Please try again.\")\n",
    "\n",
    "\n",
    "main()\n",
    "\n"
   ]
  },
  {
   "cell_type": "code",
   "execution_count": 2,
   "metadata": {},
   "outputs": [
    {
     "name": "stdout",
     "output_type": "stream",
     "text": [
      "[[0. 0. 0. 0.]\n",
      " [0. 0. 1. 0.]\n",
      " [0. 5. 0. 0.]\n",
      " [0. 0. 0. 0.]]\n",
      "[[0. 0. 0. 0.]\n",
      " [0. 1. 0. 0.]\n",
      " [0. 0. 5. 0.]\n",
      " [0. 0. 0. 0.]]\n"
     ]
    }
   ],
   "source": [
    "import numpy as np\n",
    "matrix = np.zeros((4,4))\n",
    "matrix[1,2] = 1\n",
    "matrix[2,1] = 5\n",
    "print(matrix)\n",
    "matrix = np.rot90(matrix, k=1, axes=(0, 1))\n",
    "\n",
    "print(matrix)"
   ]
  },
  {
   "cell_type": "code",
   "execution_count": 29,
   "metadata": {},
   "outputs": [
    {
     "name": "stdout",
     "output_type": "stream",
     "text": [
      "Path with direction changes: [(1, 1), (4, 1), (7, 4), (9, 4), (10, 5), (10, 10), (13, 13)]\n"
     ]
    },
    {
     "data": {
      "image/png": "[encoded data removed]",
      "text/plain": [
       "<Figure size 800x800 with 1 Axes>"
      ]
     },
     "metadata": {},
     "output_type": "display_data"
    }
   ],
   "source": [
    "import matplotlib.pyplot as plt\n",
    "from collections import deque\n",
    "import numpy as np\n",
    "\n",
    "def is_valid(x, y, grid, robot_size):\n",
    "    n = len(grid)\n",
    "    for i in range(max(0, x - robot_size + 1), min(n, x + robot_size)):\n",
    "        for j in range(max(0, y - robot_size + 1), min(n, y + robot_size)):\n",
    "            if not (0 <= i < n and 0 <= j < n) or grid[i][j] == 1:\n",
    "                return False\n",
    "    return True\n",
    "\n",
    "def find_shortest_path(grid, start, goal, robot_size):\n",
    "    directions = [(-1, 0), (1, 0), (0, -1), (0, 1), (-1, -1), (-1, 1), (1, -1), (1, 1)]\n",
    "    queue = deque([(start, [])])\n",
    "    visited = set()\n",
    "    n = len(grid)\n",
    "\n",
    "    while queue:\n",
    "        (x, y), path = queue.popleft()\n",
    "        if (x, y) == goal:\n",
    "            return path + [(x, y)]\n",
    "\n",
    "        if (x, y) not in visited and 0 <= x < n and 0 <= y < n:\n",
    "            visited.add((x, y))\n",
    "            for dx, dy in directions:\n",
    "                new_x, new_y = x + dx, y + dy\n",
    "                if is_valid(new_x, new_y, grid, robot_size) and 0 <= new_x < n and 0 <= new_y < n:\n",
    "                    queue.append(((new_x, new_y), path + [(x, y)]))\n",
    "\n",
    "    return None\n",
    "\n",
    "\n",
    "def plot_grid(grid, path, start, goal):\n",
    "    n = len(grid)\n",
    "    plt.figure(figsize=(8, 8))\n",
    "    plt.imshow(grid, cmap='Greys', interpolation='nearest')\n",
    "\n",
    "    if path:\n",
    "        path_x, path_y = zip(*path)\n",
    "        plt.plot(path_y, path_x, marker='o', color='red')\n",
    "\n",
    "    plt.plot(start[1], start[0], marker='o', color='green', markersize=10)\n",
    "    plt.plot(goal[1], goal[0], marker='o', color='blue', markersize=10)\n",
    "\n",
    "    plt.xlim(-0.5, n - 0.5)\n",
    "    plt.ylim(n - 0.5, -0.5)\n",
    "    plt.gca().invert_yaxis()\n",
    "    plt.grid(visible=True, color='black', linestyle='-', linewidth=0.5)\n",
    "    plt.show()\n",
    "\n",
    "def find_direction_changes(path):\n",
    "    if len(path) <= 2:\n",
    "        return path\n",
    "\n",
    "    direction_changes = [path[0]]\n",
    "\n",
    "    for i in range(2, len(path)):\n",
    "        dx1 = path[i - 1][0] - path[i - 2][0]\n",
    "        dy1 = path[i - 1][1] - path[i - 2][1]\n",
    "        dx2 = path[i][0] - path[i - 1][0]\n",
    "        dy2 = path[i][1] - path[i - 1][1]\n",
    "\n",
    "        if (dx1, dy1) != (dx2, dy2):\n",
    "            direction_changes.append(path[i - 1])\n",
    "\n",
    "    direction_changes.append(path[-1])\n",
    "\n",
    "    return direction_changes\n",
    "\n",
    "# Example grid with obstacles\n",
    "\n",
    "grid = np.array([\n",
    "    [0 ,0 ,0 ,0 ,0 ,0 ,0 ,0 ,0 ,0 ,0 ,0 ,0 ,0 ,0],\n",
    "    [0 ,0 ,0 ,0 ,0 ,0 ,0 ,0 ,0 ,0 ,0 ,0 ,0 ,0 ,0],\n",
    "    [0 ,0 ,0 ,0 ,0 ,0 ,0 ,0 ,0 ,0 ,0 ,0 ,0 ,0 ,0],\n",
    "    [0 ,0 ,0 ,0 ,0 ,0 ,0 ,0 ,0 ,0 ,0 ,0 ,0 ,0 ,0],\n",
    "    [1 ,1 ,1 ,0 ,0 ,0 ,0 ,0 ,0 ,0 ,0 ,0 ,0 ,1 ,1],\n",
    "    [1 ,1 ,1 ,0 ,0 ,0 ,0 ,0 ,0 ,0 ,0 ,0 ,0 ,1 ,1],\n",
    "    [1 ,1 ,1 ,0 ,0 ,0 ,1 ,1 ,1 ,1 ,1 ,1 ,0 ,1 ,1],\n",
    "    [0 ,0 ,0 ,0 ,0 ,0 ,1 ,1 ,1 ,1 ,1 ,1 ,0 ,1 ,1],\n",
    "    [0 ,0 ,0 ,0 ,0 ,0 ,0 ,0 ,0 ,0 ,0 ,0 ,0 ,1 ,1],\n",
    "    [0 ,0 ,0 ,0 ,0 ,0 ,0 ,0 ,0 ,0 ,0 ,0 ,0 ,1 ,1],\n",
    "    [0 ,0 ,0 ,0 ,0 ,0 ,0 ,0 ,0 ,0 ,0 ,0 ,0 ,0 ,0],\n",
    "    [0 ,0 ,0 ,0 ,0 ,0 ,0 ,0 ,0 ,0 ,0 ,0 ,0 ,0 ,0],\n",
    "    [0 ,0 ,0 ,0 ,0 ,0 ,0 ,0 ,0 ,0 ,0 ,0 ,0 ,0 ,0],\n",
    "    [0 ,0 ,0 ,0 ,0 ,0 ,0 ,0 ,0 ,0 ,0 ,0 ,0 ,0 ,0],\n",
    "    [0 ,0 ,0 ,0 ,0 ,0 ,0 ,0 ,0 ,0 ,0 ,0 ,0 ,0 ,0]\n",
    "    ])\n",
    "\n",
    "#filp rows of grid\n",
    "grid = np.flip(grid,0)\n",
    "\n",
    "start_index = (1, 1)  # Replace with the index of your robot\n",
    "goal_index = (13, 13)  # Replace with the index of your goal\n",
    "robot_size = 2  # Replace with the size of your robot\n",
    "\n",
    "path = find_shortest_path(grid, start_index, goal_index, robot_size)\n",
    "if path:\n",
    "    direction_changes_path = find_direction_changes(path)\n",
    "    print(\"Path with direction changes:\", direction_changes_path)\n",
    "    plot_grid(grid, direction_changes_path, start_index, goal_index)\n",
    "    # plot_grid(grid, path, start_index, goal_index)\n",
    "else:\n",
    "    print(\"No path found.\")\n"
   ]
  }
 ],
 "metadata": {
  "kernelspec": {
   "display_name": "Python 3",
   "language": "python",
   "name": "python3"
  },
  "language_info": {
   "codemirror_mode": {
    "name": "ipython",
    "version": 3
   },
   "file_extension": ".py",
   "mimetype": "text/x-python",
   "name": "python",
   "nbconvert_exporter": "python",
   "pygments_lexer": "ipython3",
   "version": "3.11.5"
  }
 },
 "nbformat": 4,
 "nbformat_minor": 2
}
